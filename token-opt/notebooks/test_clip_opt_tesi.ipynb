{
  "cells": [
    {
      "cell_type": "code",
      "source": [
        "!pip install open-clip-torch\n",
        "!pip install jaxtyping einops open-clip-torch ftfy regex timm"
      ],
      "metadata": {
        "colab": {
          "base_uri": "https://localhost:8080/"
        },
        "id": "9RI75mZ8c0BK",
        "outputId": "78b8395d-d2e0-4d26-adbd-dde41c8c99e7"
      },
      "id": "9RI75mZ8c0BK",
      "execution_count": null,
      "outputs": [
        {
          "output_type": "stream",
          "name": "stdout",
          "text": [
            "Requirement already satisfied: open-clip-torch in /usr/local/lib/python3.12/dist-packages (3.2.0)\n",
            "Requirement already satisfied: torch>=2.0 in /usr/local/lib/python3.12/dist-packages (from open-clip-torch) (2.8.0+cu126)\n",
            "Requirement already satisfied: torchvision in /usr/local/lib/python3.12/dist-packages (from open-clip-torch) (0.23.0+cu126)\n",
            "Requirement already satisfied: regex in /usr/local/lib/python3.12/dist-packages (from open-clip-torch) (2024.11.6)\n",
            "Requirement already satisfied: ftfy in /usr/local/lib/python3.12/dist-packages (from open-clip-torch) (6.3.1)\n",
            "Requirement already satisfied: tqdm in /usr/local/lib/python3.12/dist-packages (from open-clip-torch) (4.67.1)\n",
            "Requirement already satisfied: huggingface-hub in /usr/local/lib/python3.12/dist-packages (from open-clip-torch) (0.35.3)\n",
            "Requirement already satisfied: safetensors in /usr/local/lib/python3.12/dist-packages (from open-clip-torch) (0.6.2)\n",
            "Requirement already satisfied: timm>=1.0.17 in /usr/local/lib/python3.12/dist-packages (from open-clip-torch) (1.0.20)\n",
            "Requirement already satisfied: pyyaml in /usr/local/lib/python3.12/dist-packages (from timm>=1.0.17->open-clip-torch) (6.0.3)\n",
            "Requirement already satisfied: filelock in /usr/local/lib/python3.12/dist-packages (from torch>=2.0->open-clip-torch) (3.20.0)\n",
            "Requirement already satisfied: typing-extensions>=4.10.0 in /usr/local/lib/python3.12/dist-packages (from torch>=2.0->open-clip-torch) (4.15.0)\n",
            "Requirement already satisfied: setuptools in /usr/local/lib/python3.12/dist-packages (from torch>=2.0->open-clip-torch) (75.2.0)\n",
            "Requirement already satisfied: sympy>=1.13.3 in /usr/local/lib/python3.12/dist-packages (from torch>=2.0->open-clip-torch) (1.13.3)\n",
            "Requirement already satisfied: networkx in /usr/local/lib/python3.12/dist-packages (from torch>=2.0->open-clip-torch) (3.5)\n",
            "Requirement already satisfied: jinja2 in /usr/local/lib/python3.12/dist-packages (from torch>=2.0->open-clip-torch) (3.1.6)\n",
            "Requirement already satisfied: fsspec in /usr/local/lib/python3.12/dist-packages (from torch>=2.0->open-clip-torch) (2025.3.0)\n",
            "Requirement already satisfied: nvidia-cuda-nvrtc-cu12==12.6.77 in /usr/local/lib/python3.12/dist-packages (from torch>=2.0->open-clip-torch) (12.6.77)\n",
            "Requirement already satisfied: nvidia-cuda-runtime-cu12==12.6.77 in /usr/local/lib/python3.12/dist-packages (from torch>=2.0->open-clip-torch) (12.6.77)\n",
            "Requirement already satisfied: nvidia-cuda-cupti-cu12==12.6.80 in /usr/local/lib/python3.12/dist-packages (from torch>=2.0->open-clip-torch) (12.6.80)\n",
            "Requirement already satisfied: nvidia-cudnn-cu12==9.10.2.21 in /usr/local/lib/python3.12/dist-packages (from torch>=2.0->open-clip-torch) (9.10.2.21)\n",
            "Requirement already satisfied: nvidia-cublas-cu12==12.6.4.1 in /usr/local/lib/python3.12/dist-packages (from torch>=2.0->open-clip-torch) (12.6.4.1)\n",
            "Requirement already satisfied: nvidia-cufft-cu12==11.3.0.4 in /usr/local/lib/python3.12/dist-packages (from torch>=2.0->open-clip-torch) (11.3.0.4)\n",
            "Requirement already satisfied: nvidia-curand-cu12==10.3.7.77 in /usr/local/lib/python3.12/dist-packages (from torch>=2.0->open-clip-torch) (10.3.7.77)\n",
            "Requirement already satisfied: nvidia-cusolver-cu12==11.7.1.2 in /usr/local/lib/python3.12/dist-packages (from torch>=2.0->open-clip-torch) (11.7.1.2)\n",
            "Requirement already satisfied: nvidia-cusparse-cu12==12.5.4.2 in /usr/local/lib/python3.12/dist-packages (from torch>=2.0->open-clip-torch) (12.5.4.2)\n",
            "Requirement already satisfied: nvidia-cusparselt-cu12==0.7.1 in /usr/local/lib/python3.12/dist-packages (from torch>=2.0->open-clip-torch) (0.7.1)\n",
            "Requirement already satisfied: nvidia-nccl-cu12==2.27.3 in /usr/local/lib/python3.12/dist-packages (from torch>=2.0->open-clip-torch) (2.27.3)\n",
            "Requirement already satisfied: nvidia-nvtx-cu12==12.6.77 in /usr/local/lib/python3.12/dist-packages (from torch>=2.0->open-clip-torch) (12.6.77)\n",
            "Requirement already satisfied: nvidia-nvjitlink-cu12==12.6.85 in /usr/local/lib/python3.12/dist-packages (from torch>=2.0->open-clip-torch) (12.6.85)\n",
            "Requirement already satisfied: nvidia-cufile-cu12==1.11.1.6 in /usr/local/lib/python3.12/dist-packages (from torch>=2.0->open-clip-torch) (1.11.1.6)\n",
            "Requirement already satisfied: triton==3.4.0 in /usr/local/lib/python3.12/dist-packages (from torch>=2.0->open-clip-torch) (3.4.0)\n",
            "Requirement already satisfied: wcwidth in /usr/local/lib/python3.12/dist-packages (from ftfy->open-clip-torch) (0.2.14)\n",
            "Requirement already satisfied: packaging>=20.9 in /usr/local/lib/python3.12/dist-packages (from huggingface-hub->open-clip-torch) (25.0)\n",
            "Requirement already satisfied: requests in /usr/local/lib/python3.12/dist-packages (from huggingface-hub->open-clip-torch) (2.32.4)\n",
            "Requirement already satisfied: hf-xet<2.0.0,>=1.1.3 in /usr/local/lib/python3.12/dist-packages (from huggingface-hub->open-clip-torch) (1.1.10)\n",
            "Requirement already satisfied: numpy in /usr/local/lib/python3.12/dist-packages (from torchvision->open-clip-torch) (2.0.2)\n",
            "Requirement already satisfied: pillow!=8.3.*,>=5.3.0 in /usr/local/lib/python3.12/dist-packages (from torchvision->open-clip-torch) (11.3.0)\n",
            "Requirement already satisfied: mpmath<1.4,>=1.1.0 in /usr/local/lib/python3.12/dist-packages (from sympy>=1.13.3->torch>=2.0->open-clip-torch) (1.3.0)\n",
            "Requirement already satisfied: MarkupSafe>=2.0 in /usr/local/lib/python3.12/dist-packages (from jinja2->torch>=2.0->open-clip-torch) (3.0.3)\n",
            "Requirement already satisfied: charset_normalizer<4,>=2 in /usr/local/lib/python3.12/dist-packages (from requests->huggingface-hub->open-clip-torch) (3.4.4)\n",
            "Requirement already satisfied: idna<4,>=2.5 in /usr/local/lib/python3.12/dist-packages (from requests->huggingface-hub->open-clip-torch) (3.11)\n",
            "Requirement already satisfied: urllib3<3,>=1.21.1 in /usr/local/lib/python3.12/dist-packages (from requests->huggingface-hub->open-clip-torch) (2.5.0)\n",
            "Requirement already satisfied: certifi>=2017.4.17 in /usr/local/lib/python3.12/dist-packages (from requests->huggingface-hub->open-clip-torch) (2025.10.5)\n",
            "Requirement already satisfied: jaxtyping in /usr/local/lib/python3.12/dist-packages (0.3.3)\n",
            "Requirement already satisfied: einops in /usr/local/lib/python3.12/dist-packages (0.8.1)\n",
            "Requirement already satisfied: open-clip-torch in /usr/local/lib/python3.12/dist-packages (3.2.0)\n",
            "Requirement already satisfied: ftfy in /usr/local/lib/python3.12/dist-packages (6.3.1)\n",
            "Requirement already satisfied: regex in /usr/local/lib/python3.12/dist-packages (2024.11.6)\n",
            "Requirement already satisfied: timm in /usr/local/lib/python3.12/dist-packages (1.0.20)\n",
            "Requirement already satisfied: wadler-lindig>=0.1.3 in /usr/local/lib/python3.12/dist-packages (from jaxtyping) (0.1.7)\n",
            "Requirement already satisfied: torch>=2.0 in /usr/local/lib/python3.12/dist-packages (from open-clip-torch) (2.8.0+cu126)\n",
            "Requirement already satisfied: torchvision in /usr/local/lib/python3.12/dist-packages (from open-clip-torch) (0.23.0+cu126)\n",
            "Requirement already satisfied: tqdm in /usr/local/lib/python3.12/dist-packages (from open-clip-torch) (4.67.1)\n",
            "Requirement already satisfied: huggingface-hub in /usr/local/lib/python3.12/dist-packages (from open-clip-torch) (0.35.3)\n",
            "Requirement already satisfied: safetensors in /usr/local/lib/python3.12/dist-packages (from open-clip-torch) (0.6.2)\n",
            "Requirement already satisfied: wcwidth in /usr/local/lib/python3.12/dist-packages (from ftfy) (0.2.14)\n",
            "Requirement already satisfied: pyyaml in /usr/local/lib/python3.12/dist-packages (from timm) (6.0.3)\n",
            "Requirement already satisfied: filelock in /usr/local/lib/python3.12/dist-packages (from torch>=2.0->open-clip-torch) (3.20.0)\n",
            "Requirement already satisfied: typing-extensions>=4.10.0 in /usr/local/lib/python3.12/dist-packages (from torch>=2.0->open-clip-torch) (4.15.0)\n",
            "Requirement already satisfied: setuptools in /usr/local/lib/python3.12/dist-packages (from torch>=2.0->open-clip-torch) (75.2.0)\n",
            "Requirement already satisfied: sympy>=1.13.3 in /usr/local/lib/python3.12/dist-packages (from torch>=2.0->open-clip-torch) (1.13.3)\n",
            "Requirement already satisfied: networkx in /usr/local/lib/python3.12/dist-packages (from torch>=2.0->open-clip-torch) (3.5)\n",
            "Requirement already satisfied: jinja2 in /usr/local/lib/python3.12/dist-packages (from torch>=2.0->open-clip-torch) (3.1.6)\n",
            "Requirement already satisfied: fsspec in /usr/local/lib/python3.12/dist-packages (from torch>=2.0->open-clip-torch) (2025.3.0)\n",
            "Requirement already satisfied: nvidia-cuda-nvrtc-cu12==12.6.77 in /usr/local/lib/python3.12/dist-packages (from torch>=2.0->open-clip-torch) (12.6.77)\n",
            "Requirement already satisfied: nvidia-cuda-runtime-cu12==12.6.77 in /usr/local/lib/python3.12/dist-packages (from torch>=2.0->open-clip-torch) (12.6.77)\n",
            "Requirement already satisfied: nvidia-cuda-cupti-cu12==12.6.80 in /usr/local/lib/python3.12/dist-packages (from torch>=2.0->open-clip-torch) (12.6.80)\n",
            "Requirement already satisfied: nvidia-cudnn-cu12==9.10.2.21 in /usr/local/lib/python3.12/dist-packages (from torch>=2.0->open-clip-torch) (9.10.2.21)\n",
            "Requirement already satisfied: nvidia-cublas-cu12==12.6.4.1 in /usr/local/lib/python3.12/dist-packages (from torch>=2.0->open-clip-torch) (12.6.4.1)\n",
            "Requirement already satisfied: nvidia-cufft-cu12==11.3.0.4 in /usr/local/lib/python3.12/dist-packages (from torch>=2.0->open-clip-torch) (11.3.0.4)\n",
            "Requirement already satisfied: nvidia-curand-cu12==10.3.7.77 in /usr/local/lib/python3.12/dist-packages (from torch>=2.0->open-clip-torch) (10.3.7.77)\n",
            "Requirement already satisfied: nvidia-cusolver-cu12==11.7.1.2 in /usr/local/lib/python3.12/dist-packages (from torch>=2.0->open-clip-torch) (11.7.1.2)\n",
            "Requirement already satisfied: nvidia-cusparse-cu12==12.5.4.2 in /usr/local/lib/python3.12/dist-packages (from torch>=2.0->open-clip-torch) (12.5.4.2)\n",
            "Requirement already satisfied: nvidia-cusparselt-cu12==0.7.1 in /usr/local/lib/python3.12/dist-packages (from torch>=2.0->open-clip-torch) (0.7.1)\n",
            "Requirement already satisfied: nvidia-nccl-cu12==2.27.3 in /usr/local/lib/python3.12/dist-packages (from torch>=2.0->open-clip-torch) (2.27.3)\n",
            "Requirement already satisfied: nvidia-nvtx-cu12==12.6.77 in /usr/local/lib/python3.12/dist-packages (from torch>=2.0->open-clip-torch) (12.6.77)\n",
            "Requirement already satisfied: nvidia-nvjitlink-cu12==12.6.85 in /usr/local/lib/python3.12/dist-packages (from torch>=2.0->open-clip-torch) (12.6.85)\n",
            "Requirement already satisfied: nvidia-cufile-cu12==1.11.1.6 in /usr/local/lib/python3.12/dist-packages (from torch>=2.0->open-clip-torch) (1.11.1.6)\n",
            "Requirement already satisfied: triton==3.4.0 in /usr/local/lib/python3.12/dist-packages (from torch>=2.0->open-clip-torch) (3.4.0)\n",
            "Requirement already satisfied: packaging>=20.9 in /usr/local/lib/python3.12/dist-packages (from huggingface-hub->open-clip-torch) (25.0)\n",
            "Requirement already satisfied: requests in /usr/local/lib/python3.12/dist-packages (from huggingface-hub->open-clip-torch) (2.32.4)\n",
            "Requirement already satisfied: hf-xet<2.0.0,>=1.1.3 in /usr/local/lib/python3.12/dist-packages (from huggingface-hub->open-clip-torch) (1.1.10)\n",
            "Requirement already satisfied: numpy in /usr/local/lib/python3.12/dist-packages (from torchvision->open-clip-torch) (2.0.2)\n",
            "Requirement already satisfied: pillow!=8.3.*,>=5.3.0 in /usr/local/lib/python3.12/dist-packages (from torchvision->open-clip-torch) (11.3.0)\n",
            "Requirement already satisfied: mpmath<1.4,>=1.1.0 in /usr/local/lib/python3.12/dist-packages (from sympy>=1.13.3->torch>=2.0->open-clip-torch) (1.3.0)\n",
            "Requirement already satisfied: MarkupSafe>=2.0 in /usr/local/lib/python3.12/dist-packages (from jinja2->torch>=2.0->open-clip-torch) (3.0.3)\n",
            "Requirement already satisfied: charset_normalizer<4,>=2 in /usr/local/lib/python3.12/dist-packages (from requests->huggingface-hub->open-clip-torch) (3.4.4)\n",
            "Requirement already satisfied: idna<4,>=2.5 in /usr/local/lib/python3.12/dist-packages (from requests->huggingface-hub->open-clip-torch) (3.11)\n",
            "Requirement already satisfied: urllib3<3,>=1.21.1 in /usr/local/lib/python3.12/dist-packages (from requests->huggingface-hub->open-clip-torch) (2.5.0)\n",
            "Requirement already satisfied: certifi>=2017.4.17 in /usr/local/lib/python3.12/dist-packages (from requests->huggingface-hub->open-clip-torch) (2025.10.5)\n"
          ]
        }
      ]
    },
    {
      "metadata": {
        "id": "39fe7ccec50456c"
      },
      "cell_type": "markdown",
      "source": [
        "## Import delle librerie necessarie"
      ],
      "id": "39fe7ccec50456c"
    },
    {
      "metadata": {
        "id": "e933fecd45bf98b0"
      },
      "cell_type": "code",
      "outputs": [],
      "execution_count": null,
      "source": [
        "import os,json\n",
        "from pathlib import Path\n",
        "\n",
        "import pandas as pd\n",
        "from PIL import Image\n",
        "\n",
        "import torch\n",
        "import torch.nn.functional as F\n",
        "from sphinx.ext.viewcode import OUTPUT_DIRNAME\n",
        "from tqdm import tqdm\n",
        "\n",
        "#Todo togliere il commmento\n",
        "import open_clip\n"
      ],
      "id": "e933fecd45bf98b0"
    },
    {
      "metadata": {
        "id": "6914e49d69d7390f"
      },
      "cell_type": "markdown",
      "source": [
        "Impostazione del dispositivo di calcolo"
      ],
      "id": "6914e49d69d7390f"
    },
    {
      "metadata": {
        "colab": {
          "base_uri": "https://localhost:8080/"
        },
        "id": "ae9b610766d3c7ca",
        "outputId": "5f4dbb23-bc6d-49b2-86c3-e52ab8baad63"
      },
      "cell_type": "code",
      "outputs": [
        {
          "output_type": "stream",
          "name": "stdout",
          "text": [
            "Using device: cuda\n"
          ]
        }
      ],
      "execution_count": null,
      "source": [
        "device = 'cuda' if torch.cuda.is_available() else 'cpu'\n",
        "print(f\"Using device: {device}\")"
      ],
      "id": "ae9b610766d3c7ca"
    },
    {
      "metadata": {
        "id": "87b4eee4e608979"
      },
      "cell_type": "markdown",
      "source": [
        "Clip_model per ottenere gli score delle generazioni"
      ],
      "id": "87b4eee4e608979"
    },
    {
      "metadata": {
        "id": "4ab6329d16a6542a",
        "colab": {
          "base_uri": "https://localhost:8080/"
        },
        "outputId": "627ee839-b788-4354-ab72-0192075ac71d"
      },
      "cell_type": "code",
      "outputs": [
        {
          "output_type": "stream",
          "name": "stderr",
          "text": [
            "/usr/local/lib/python3.12/dist-packages/open_clip/factory.py:450: UserWarning: QuickGELU mismatch between final model config (quick_gelu=False) and pretrained tag 'openai' (quick_gelu=True).\n",
            "  warnings.warn(\n"
          ]
        }
      ],
      "execution_count": null,
      "source": [
        "#Inizializzazione CLIP (per score)\n",
        "clip_model, _, clip_preprocess = open_clip.create_model_and_transforms('ViT-B-32', pretrained='openai')\n",
        "clip_model= clip_model.to(device).eval()\n",
        "clip_tokenizer=open_clip.get_tokenizer('ViT-B-32')"
      ],
      "id": "4ab6329d16a6542a"
    },
    {
      "metadata": {
        "id": "d599a524b67dae63"
      },
      "cell_type": "markdown",
      "source": [
        "Definizioni dei Path\n"
      ],
      "id": "d599a524b67dae63"
    },
    {
      "metadata": {
        "colab": {
          "base_uri": "https://localhost:8080/"
        },
        "id": "181bec33ba911a97",
        "outputId": "a9915332-c2b1-4434-ed76-ea294253102e"
      },
      "cell_type": "code",
      "outputs": [
        {
          "output_type": "stream",
          "name": "stdout",
          "text": [
            "BASE_DATA_DIR = /content\n",
            "CSV_PATH      = /content/dataset/cambio_materiale/change_material_tests.csv\n",
            "OUT_DIR       = /content/outputs_change_materials\n"
          ]
        }
      ],
      "execution_count": null,
      "source": [
        "from pathlib import Path\n",
        "\n",
        "BASE_DATA_DIR=Path(\"/content\")\n",
        "CSV_PATH=BASE_DATA_DIR/\"dataset/cambio_materiale/change_material_tests.csv\"\n",
        "OUT_DIR=Path(\"/content/outputs_change_materials\")\n",
        "OUT_DIR.mkdir(parents=True, exist_ok=True)\n",
        "\n",
        "print('BASE_DATA_DIR =', BASE_DATA_DIR)\n",
        "print('CSV_PATH      =', CSV_PATH)\n",
        "print('OUT_DIR       =', OUT_DIR)"
      ],
      "id": "181bec33ba911a97"
    },
    {
      "metadata": {
        "id": "5c2ef5ddb86d062"
      },
      "cell_type": "markdown",
      "source": [
        "Import del Token-Opt\n"
      ],
      "id": "5c2ef5ddb86d062"
    },
    {
      "metadata": {
        "colab": {
          "base_uri": "https://localhost:8080/"
        },
        "id": "dfb2c5c2ac03abb1",
        "outputId": "17849a06-236f-4cf8-9526-a48aaa975414"
      },
      "cell_type": "code",
      "outputs": [
        {
          "output_type": "stream",
          "name": "stdout",
          "text": [
            "fatal: destination path '/content/token-opt' already exists and is not an empty directory.\n",
            "Token-Opt importato correttamente\n",
            "True\n"
          ]
        }
      ],
      "execution_count": null,
      "source": [
        "import sys\n",
        "!git clone https://github.com/lukaslaobeyer/token-opt.git /content/token-opt\n",
        "REPO_DIR = Path('/content/token-opt')\n",
        "sys.path.insert(0, str(REPO_DIR))\n",
        "\n",
        "TTO_AVAILABLE = True\n",
        "try:\n",
        "    from tto.test_time_opt import(\n",
        "        TestTimeOpt,\n",
        "        TestTimeOptConfig,\n",
        "        CLIPObjective,\n",
        "    )\n",
        "    print(\"Token-Opt importato correttamente\")\n",
        "except Exception as e:\n",
        "    TTO_AVAILABLE = False\n",
        "    print(\"Errore nell'importazione di Token-Opt:\", e)\n",
        "\n",
        "print(TTO_AVAILABLE)\n"
      ],
      "id": "dfb2c5c2ac03abb1"
    },
    {
      "metadata": {
        "id": "f9977e09e48ebde2"
      },
      "cell_type": "markdown",
      "source": [
        "Definizione di caricamento immagine e funzione di calcolo score CLIP"
      ],
      "id": "f9977e09e48ebde2"
    },
    {
      "metadata": {
        "id": "ff901638017a1f12"
      },
      "cell_type": "code",
      "outputs": [],
      "execution_count": null,
      "source": [
        "def load_rgb_image(path:Path):\n",
        "    image = Image.open(path).convert(\"RGB\")\n",
        "    return image\n",
        "\n",
        "def clip_score_image_text(img:Image.Image,text:str) -> float:\n",
        "    with torch.no_grad():\n",
        "        image_input=clip_preprocess(img).unsqueeze(0).to(device)\n",
        "        text_input=clip_tokenizer([text]).to(device)\n",
        "\n",
        "        image_feature=clip_model.encode_image(image_input)\n",
        "        text_feature=clip_model.encode_text(text_input)\n",
        "\n",
        "        image_feature=F.normalize(image_feature,dim=-1)\n",
        "        text_feature=F.normalize(text_feature,dim=-1)\n",
        "\n",
        "        sim=(image_feature@text_feature.T).squeeze().item()\n",
        "    return float(sim)"
      ],
      "id": "ff901638017a1f12"
    },
    {
      "cell_type": "markdown",
      "source": [
        "Per trasformare immagine in tensore e tensore in immagine"
      ],
      "metadata": {
        "id": "DeR8J8jLmPRg"
      },
      "id": "DeR8J8jLmPRg"
    },
    {
      "cell_type": "code",
      "source": [
        "import torchvision.transforms as T\n",
        "_pre_tto = T.Compose([\n",
        "    T.Resize(256, interpolation=T.InterpolationMode.BICUBIC),\n",
        "    T.CenterCrop(256),\n",
        "    T.ToTensor(),  # -> [0,1] float32, shape [3,H,W]\n",
        "])\n",
        "\n",
        "def pil_to_tto(seed_img: Image.Image, device: str = \"cuda\") -> torch.Tensor:\n",
        "    x = _pre_tto(seed_img.convert(\"RGB\"))     # [3,H,W] in [0,1]\n",
        "    x = x.unsqueeze(0).to(device, dtype=torch.float32)  # [1,3,H,W]\n",
        "    return x\n",
        "def tensor_to_pil(img: torch.Tensor) -> Image.Image:\n",
        "    # accetta [1,3,H,W] o [3,H,W]; assume range [0,1]\n",
        "    if img.ndim == 4:\n",
        "        img = img[0]\n",
        "    img = img.detach().clamp(0, 1).cpu()\n",
        "    img = (img * 255).to(torch.uint8)      # [3,H,W]\n",
        "    img = img.permute(1, 2, 0).numpy()     # HWC\n",
        "    return Image.fromarray(img)"
      ],
      "metadata": {
        "id": "wcTR6iV2mH8W"
      },
      "id": "wcTR6iV2mH8W",
      "execution_count": null,
      "outputs": []
    },
    {
      "metadata": {
        "id": "8d2aa659d509a274"
      },
      "cell_type": "markdown",
      "source": [
        "# Metodo di generazione dell'immagine"
      ],
      "id": "8d2aa659d509a274"
    },
    {
      "metadata": {
        "id": "4aaaeb6642b5b789"
      },
      "cell_type": "code",
      "outputs": [],
      "execution_count": null,
      "source": [
        "def run_token_opt(seed_img:Image.Image,prompt:str,steps:int=50)->Image.Image:\n",
        "    \"\"\"\n",
        "    Esegue Token_Opt su una singola immagine+prompt. Se Token-Opt non è importato correttamente si restituisce l'immagine seed.\n",
        "    \"\"\"\n",
        "    if not TTO_AVAILABLE:\n",
        "        print(\"Token-Opt non è disponibile, restituisco l'immagine seed\")\n",
        "        return seed_img\n",
        "\n",
        "    seed_tensor=pil_to_tto(seed_img,device=\"cuda\")\n",
        "\n",
        "    cfg=TestTimeOptConfig(\n",
        "        num_iter=steps,\n",
        "        lr=0.1,\n",
        "    )\n",
        "\n",
        "    #Definizione dell'obiettivo CLIP\n",
        "    objective=CLIPObjective(prompt=prompt)\n",
        "\n",
        "    tto=TestTimeOpt(cfg,objective).to(device=device)\n",
        "    torch.manual_seed(0)\n",
        "\n",
        "    tensor_out=tto(seed=seed_tensor)\n",
        "\n",
        "    return tensor_to_pil(tensor_out)\n"
      ],
      "id": "4aaaeb6642b5b789"
    },
    {
      "metadata": {
        "id": "cc082c4cb3e2b777"
      },
      "cell_type": "markdown",
      "source": [
        "# Loop principale"
      ],
      "id": "cc082c4cb3e2b777"
    },
    {
      "metadata": {
        "colab": {
          "base_uri": "https://localhost:8080/",
          "height": 1000
        },
        "id": "a6caf72cc73143ee",
        "outputId": "46ceb277-8cc2-4827-f1c9-b173dc53597a"
      },
      "cell_type": "code",
      "outputs": [
        {
          "output_type": "stream",
          "name": "stdout",
          "text": [
            "Totale righe da processare 30\n"
          ]
        },
        {
          "output_type": "stream",
          "name": "stderr",
          "text": [
            "\r  0%|          | 0/30 [00:00<?, ?it/s]"
          ]
        },
        {
          "output_type": "stream",
          "name": "stdout",
          "text": [
            "/content/dataset/cambio_materiale/clean/sedia.jpg\n"
          ]
        },
        {
          "output_type": "stream",
          "name": "stderr",
          "text": [
            "\r  3%|▎         | 1/30 [01:53<54:40, 113.11s/it]"
          ]
        },
        {
          "output_type": "stream",
          "name": "stdout",
          "text": [
            "/content/dataset/cambio_materiale/real/sedia.jpg\n"
          ]
        },
        {
          "output_type": "stream",
          "name": "stderr",
          "text": [
            "\r  7%|▋         | 2/30 [03:35<49:48, 106.74s/it]"
          ]
        },
        {
          "output_type": "stream",
          "name": "stdout",
          "text": [
            "/content/dataset/cambio_materiale/clean/sedia.jpg\n"
          ]
        },
        {
          "output_type": "stream",
          "name": "stderr",
          "text": [
            "\r 10%|█         | 3/30 [05:12<46:02, 102.30s/it]"
          ]
        },
        {
          "output_type": "stream",
          "name": "stdout",
          "text": [
            "/content/dataset/cambio_materiale/real/sedia.jpg\n"
          ]
        },
        {
          "output_type": "stream",
          "name": "stderr",
          "text": [
            "\r 13%|█▎        | 4/30 [06:49<43:21, 100.08s/it]"
          ]
        },
        {
          "output_type": "stream",
          "name": "stdout",
          "text": [
            "/content/dataset/cambio_materiale/clean/sedia.jpg\n"
          ]
        },
        {
          "output_type": "stream",
          "name": "stderr",
          "text": [
            "\r 17%|█▋        | 5/30 [08:25<41:11, 98.85s/it] "
          ]
        },
        {
          "output_type": "stream",
          "name": "stdout",
          "text": [
            "/content/dataset/cambio_materiale/real/sedia.jpg\n"
          ]
        },
        {
          "output_type": "stream",
          "name": "stderr",
          "text": [
            "\r 20%|██        | 6/30 [10:02<39:16, 98.18s/it]"
          ]
        },
        {
          "output_type": "stream",
          "name": "stdout",
          "text": [
            "/content/dataset/cambio_materiale/clean/divano.jpg\n"
          ]
        },
        {
          "output_type": "stream",
          "name": "stderr",
          "text": [
            "\r 23%|██▎       | 7/30 [11:39<37:27, 97.72s/it]"
          ]
        },
        {
          "output_type": "stream",
          "name": "stdout",
          "text": [
            "/content/dataset/cambio_materiale/real/divano.jpg\n"
          ]
        },
        {
          "output_type": "stream",
          "name": "stderr",
          "text": [
            "\r 27%|██▋       | 8/30 [13:16<35:42, 97.41s/it]"
          ]
        },
        {
          "output_type": "stream",
          "name": "stdout",
          "text": [
            "/content/dataset/cambio_materiale/clean/divano.jpg\n"
          ]
        },
        {
          "output_type": "stream",
          "name": "stderr",
          "text": [
            "\r 30%|███       | 9/30 [14:52<34:00, 97.17s/it]"
          ]
        },
        {
          "output_type": "stream",
          "name": "stdout",
          "text": [
            "/content/dataset/cambio_materiale/real/divano.jpg\n"
          ]
        },
        {
          "output_type": "stream",
          "name": "stderr",
          "text": [
            "\r 33%|███▎      | 10/30 [16:29<32:18, 96.92s/it]"
          ]
        },
        {
          "output_type": "stream",
          "name": "stdout",
          "text": [
            "/content/dataset/cambio_materiale/clean/tavolo.jpg\n"
          ]
        },
        {
          "output_type": "stream",
          "name": "stderr",
          "text": [
            "\r 37%|███▋      | 11/30 [18:05<30:37, 96.72s/it]"
          ]
        },
        {
          "output_type": "stream",
          "name": "stdout",
          "text": [
            "/content/dataset/cambio_materiale/real/tavolo.jpg\n"
          ]
        },
        {
          "output_type": "stream",
          "name": "stderr",
          "text": [
            "\r 40%|████      | 12/30 [19:41<28:59, 96.62s/it]"
          ]
        },
        {
          "output_type": "stream",
          "name": "stdout",
          "text": [
            "/content/dataset/cambio_materiale/clean/tavolo.jpg\n"
          ]
        },
        {
          "output_type": "stream",
          "name": "stderr",
          "text": [
            "\r 43%|████▎     | 13/30 [21:18<27:20, 96.51s/it]"
          ]
        },
        {
          "output_type": "stream",
          "name": "stdout",
          "text": [
            "/content/dataset/cambio_materiale/real/tavolo.jpg\n"
          ]
        },
        {
          "output_type": "stream",
          "name": "stderr",
          "text": [
            "\r 47%|████▋     | 14/30 [22:55<25:46, 96.65s/it]"
          ]
        },
        {
          "output_type": "stream",
          "name": "stdout",
          "text": [
            "/content/dataset/cambio_materiale/clean/tavolo.jpg\n"
          ]
        },
        {
          "output_type": "stream",
          "name": "stderr",
          "text": [
            "\r 50%|█████     | 15/30 [24:35<24:27, 97.86s/it]"
          ]
        },
        {
          "output_type": "stream",
          "name": "stdout",
          "text": [
            "/content/dataset/cambio_materiale/real/tavolo.jpg\n"
          ]
        },
        {
          "output_type": "stream",
          "name": "stderr",
          "text": [
            "\r 53%|█████▎    | 16/30 [26:13<22:48, 97.77s/it]"
          ]
        },
        {
          "output_type": "stream",
          "name": "stdout",
          "text": [
            "/content/dataset/cambio_materiale/clean/tavolo.jpg\n"
          ]
        },
        {
          "output_type": "stream",
          "name": "stderr",
          "text": [
            "\r 57%|█████▋    | 17/30 [27:51<21:13, 97.97s/it]"
          ]
        },
        {
          "output_type": "stream",
          "name": "stdout",
          "text": [
            "/content/dataset/cambio_materiale/real/tavolo.jpg\n"
          ]
        },
        {
          "output_type": "stream",
          "name": "stderr",
          "text": [
            "\r 60%|██████    | 18/30 [29:29<19:33, 97.80s/it]"
          ]
        },
        {
          "output_type": "stream",
          "name": "stdout",
          "text": [
            "/content/dataset/cambio_materiale/clean/tazza.jpg\n"
          ]
        },
        {
          "output_type": "stream",
          "name": "stderr",
          "text": [
            "\r 63%|██████▎   | 19/30 [31:06<17:54, 97.71s/it]"
          ]
        },
        {
          "output_type": "stream",
          "name": "stdout",
          "text": [
            "/content/dataset/cambio_materiale/real/tazza.jpg\n"
          ]
        },
        {
          "output_type": "stream",
          "name": "stderr",
          "text": [
            "\r 67%|██████▋   | 20/30 [32:44<16:16, 97.66s/it]"
          ]
        },
        {
          "output_type": "stream",
          "name": "stdout",
          "text": [
            "/content/dataset/cambio_materiale/clean/tazza.jpg\n"
          ]
        },
        {
          "output_type": "stream",
          "name": "stderr",
          "text": [
            "\r 70%|███████   | 21/30 [34:21<14:37, 97.55s/it]"
          ]
        },
        {
          "output_type": "stream",
          "name": "stdout",
          "text": [
            "/content/dataset/cambio_materiale/real/tazza.jpg\n"
          ]
        },
        {
          "output_type": "stream",
          "name": "stderr",
          "text": [
            "\r 73%|███████▎  | 22/30 [35:58<13:00, 97.54s/it]"
          ]
        },
        {
          "output_type": "stream",
          "name": "stdout",
          "text": [
            "/content/dataset/cambio_materiale/clean/vaso.jpg\n"
          ]
        },
        {
          "output_type": "stream",
          "name": "stderr",
          "text": [
            "\r 77%|███████▋  | 23/30 [37:36<11:22, 97.48s/it]"
          ]
        },
        {
          "output_type": "stream",
          "name": "stdout",
          "text": [
            "/content/dataset/cambio_materiale/real/vaso.jpg\n"
          ]
        },
        {
          "output_type": "stream",
          "name": "stderr",
          "text": [
            "\r 80%|████████  | 24/30 [39:14<09:45, 97.57s/it]"
          ]
        },
        {
          "output_type": "stream",
          "name": "stdout",
          "text": [
            "/content/dataset/cambio_materiale/clean/vaso.jpg\n"
          ]
        },
        {
          "output_type": "stream",
          "name": "stderr",
          "text": [
            "\r 83%|████████▎ | 25/30 [40:51<08:07, 97.55s/it]"
          ]
        },
        {
          "output_type": "stream",
          "name": "stdout",
          "text": [
            "/content/dataset/cambio_materiale/real/vaso.jpg\n"
          ]
        },
        {
          "output_type": "stream",
          "name": "stderr",
          "text": [
            "\r 87%|████████▋ | 26/30 [42:28<06:29, 97.32s/it]"
          ]
        },
        {
          "output_type": "stream",
          "name": "stdout",
          "text": [
            "/content/dataset/cambio_materiale/clean/lampada.jpg\n"
          ]
        },
        {
          "output_type": "stream",
          "name": "stderr",
          "text": [
            "\r 90%|█████████ | 27/30 [44:04<04:51, 97.05s/it]"
          ]
        },
        {
          "output_type": "stream",
          "name": "stdout",
          "text": [
            "/content/dataset/cambio_materiale/real/lampada.jpg\n"
          ]
        },
        {
          "output_type": "stream",
          "name": "stderr",
          "text": [
            "\r 93%|█████████▎| 28/30 [45:41<03:13, 96.82s/it]"
          ]
        },
        {
          "output_type": "stream",
          "name": "stdout",
          "text": [
            "/content/dataset/cambio_materiale/clean/lampada.jpg\n"
          ]
        },
        {
          "output_type": "stream",
          "name": "stderr",
          "text": [
            "\r 97%|█████████▋| 29/30 [47:17<01:36, 96.59s/it]"
          ]
        },
        {
          "output_type": "stream",
          "name": "stdout",
          "text": [
            "/content/dataset/cambio_materiale/real/lampada.jpg\n"
          ]
        },
        {
          "output_type": "stream",
          "name": "stderr",
          "text": [
            "100%|██████████| 30/30 [48:53<00:00, 97.78s/it]"
          ]
        },
        {
          "output_type": "stream",
          "name": "stdout",
          "text": [
            "[DONE] Salvato results in: /content/outputs_change_materials/results_clip.csv\n",
            "Media CLIP per (object, scenario):\n"
          ]
        },
        {
          "output_type": "stream",
          "name": "stderr",
          "text": [
            "\n"
          ]
        },
        {
          "output_type": "display_data",
          "data": {
            "text/plain": [
              "object  scenario\n",
              "chair   clean       0.3100\n",
              "        real        0.2991\n",
              "cup     clean       0.3223\n",
              "        real        0.3298\n",
              "lamp    clean       0.2945\n",
              "        real        0.3026\n",
              "sofa    clean       0.2877\n",
              "        real        0.3174\n",
              "table   clean       0.2947\n",
              "        real        0.3270\n",
              "vase    clean       0.3391\n",
              "        real        0.3275\n",
              "Name: clip_score, dtype: float64"
            ],
            "text/html": [
              "<div>\n",
              "<style scoped>\n",
              "    .dataframe tbody tr th:only-of-type {\n",
              "        vertical-align: middle;\n",
              "    }\n",
              "\n",
              "    .dataframe tbody tr th {\n",
              "        vertical-align: top;\n",
              "    }\n",
              "\n",
              "    .dataframe thead th {\n",
              "        text-align: right;\n",
              "    }\n",
              "</style>\n",
              "<table border=\"1\" class=\"dataframe\">\n",
              "  <thead>\n",
              "    <tr style=\"text-align: right;\">\n",
              "      <th></th>\n",
              "      <th></th>\n",
              "      <th>clip_score</th>\n",
              "    </tr>\n",
              "    <tr>\n",
              "      <th>object</th>\n",
              "      <th>scenario</th>\n",
              "      <th></th>\n",
              "    </tr>\n",
              "  </thead>\n",
              "  <tbody>\n",
              "    <tr>\n",
              "      <th rowspan=\"2\" valign=\"top\">chair</th>\n",
              "      <th>clean</th>\n",
              "      <td>0.3100</td>\n",
              "    </tr>\n",
              "    <tr>\n",
              "      <th>real</th>\n",
              "      <td>0.2991</td>\n",
              "    </tr>\n",
              "    <tr>\n",
              "      <th rowspan=\"2\" valign=\"top\">cup</th>\n",
              "      <th>clean</th>\n",
              "      <td>0.3223</td>\n",
              "    </tr>\n",
              "    <tr>\n",
              "      <th>real</th>\n",
              "      <td>0.3298</td>\n",
              "    </tr>\n",
              "    <tr>\n",
              "      <th rowspan=\"2\" valign=\"top\">lamp</th>\n",
              "      <th>clean</th>\n",
              "      <td>0.2945</td>\n",
              "    </tr>\n",
              "    <tr>\n",
              "      <th>real</th>\n",
              "      <td>0.3026</td>\n",
              "    </tr>\n",
              "    <tr>\n",
              "      <th rowspan=\"2\" valign=\"top\">sofa</th>\n",
              "      <th>clean</th>\n",
              "      <td>0.2877</td>\n",
              "    </tr>\n",
              "    <tr>\n",
              "      <th>real</th>\n",
              "      <td>0.3174</td>\n",
              "    </tr>\n",
              "    <tr>\n",
              "      <th rowspan=\"2\" valign=\"top\">table</th>\n",
              "      <th>clean</th>\n",
              "      <td>0.2947</td>\n",
              "    </tr>\n",
              "    <tr>\n",
              "      <th>real</th>\n",
              "      <td>0.3270</td>\n",
              "    </tr>\n",
              "    <tr>\n",
              "      <th rowspan=\"2\" valign=\"top\">vase</th>\n",
              "      <th>clean</th>\n",
              "      <td>0.3391</td>\n",
              "    </tr>\n",
              "    <tr>\n",
              "      <th>real</th>\n",
              "      <td>0.3275</td>\n",
              "    </tr>\n",
              "  </tbody>\n",
              "</table>\n",
              "</div><br><label><b>dtype:</b> float64</label>"
            ]
          },
          "metadata": {}
        },
        {
          "output_type": "stream",
          "name": "stdout",
          "text": [
            "\n",
            "Top 5 risultati per clip_score:\n"
          ]
        },
        {
          "output_type": "display_data",
          "data": {
            "text/plain": [
              "         id object scenario  clip_score  \\\n",
              "15  MAT_016  table     real    0.349721   \n",
              "23  MAT_022   vase     real    0.349568   \n",
              "22  MAT_021   vase    clean    0.349549   \n",
              "9   MAT_010   sofa     real    0.337466   \n",
              "10  MAT_011  table    clean    0.335973   \n",
              "\n",
              "                                               prompt  \n",
              "15  Transform the table into a transparent glass t...  \n",
              "23  Transform the terracotta vase into a natural s...  \n",
              "22  Transform the terracotta vase into a natural s...  \n",
              "9   Make the sofa appear as made of glossy plastic...  \n",
              "10  Transform the table into a polished metal tabl...  "
            ],
            "text/html": [
              "\n",
              "  <div id=\"df-117cc9ea-a19a-448c-8c32-fcbef8a4841a\" class=\"colab-df-container\">\n",
              "    <div>\n",
              "<style scoped>\n",
              "    .dataframe tbody tr th:only-of-type {\n",
              "        vertical-align: middle;\n",
              "    }\n",
              "\n",
              "    .dataframe tbody tr th {\n",
              "        vertical-align: top;\n",
              "    }\n",
              "\n",
              "    .dataframe thead th {\n",
              "        text-align: right;\n",
              "    }\n",
              "</style>\n",
              "<table border=\"1\" class=\"dataframe\">\n",
              "  <thead>\n",
              "    <tr style=\"text-align: right;\">\n",
              "      <th></th>\n",
              "      <th>id</th>\n",
              "      <th>object</th>\n",
              "      <th>scenario</th>\n",
              "      <th>clip_score</th>\n",
              "      <th>prompt</th>\n",
              "    </tr>\n",
              "  </thead>\n",
              "  <tbody>\n",
              "    <tr>\n",
              "      <th>15</th>\n",
              "      <td>MAT_016</td>\n",
              "      <td>table</td>\n",
              "      <td>real</td>\n",
              "      <td>0.349721</td>\n",
              "      <td>Transform the table into a transparent glass t...</td>\n",
              "    </tr>\n",
              "    <tr>\n",
              "      <th>23</th>\n",
              "      <td>MAT_022</td>\n",
              "      <td>vase</td>\n",
              "      <td>real</td>\n",
              "      <td>0.349568</td>\n",
              "      <td>Transform the terracotta vase into a natural s...</td>\n",
              "    </tr>\n",
              "    <tr>\n",
              "      <th>22</th>\n",
              "      <td>MAT_021</td>\n",
              "      <td>vase</td>\n",
              "      <td>clean</td>\n",
              "      <td>0.349549</td>\n",
              "      <td>Transform the terracotta vase into a natural s...</td>\n",
              "    </tr>\n",
              "    <tr>\n",
              "      <th>9</th>\n",
              "      <td>MAT_010</td>\n",
              "      <td>sofa</td>\n",
              "      <td>real</td>\n",
              "      <td>0.337466</td>\n",
              "      <td>Make the sofa appear as made of glossy plastic...</td>\n",
              "    </tr>\n",
              "    <tr>\n",
              "      <th>10</th>\n",
              "      <td>MAT_011</td>\n",
              "      <td>table</td>\n",
              "      <td>clean</td>\n",
              "      <td>0.335973</td>\n",
              "      <td>Transform the table into a polished metal tabl...</td>\n",
              "    </tr>\n",
              "  </tbody>\n",
              "</table>\n",
              "</div>\n",
              "    <div class=\"colab-df-buttons\">\n",
              "\n",
              "  <div class=\"colab-df-container\">\n",
              "    <button class=\"colab-df-convert\" onclick=\"convertToInteractive('df-117cc9ea-a19a-448c-8c32-fcbef8a4841a')\"\n",
              "            title=\"Convert this dataframe to an interactive table.\"\n",
              "            style=\"display:none;\">\n",
              "\n",
              "  <svg xmlns=\"http://www.w3.org/2000/svg\" height=\"24px\" viewBox=\"0 -960 960 960\">\n",
              "    <path d=\"M120-120v-720h720v720H120Zm60-500h600v-160H180v160Zm220 220h160v-160H400v160Zm0 220h160v-160H400v160ZM180-400h160v-160H180v160Zm440 0h160v-160H620v160ZM180-180h160v-160H180v160Zm440 0h160v-160H620v160Z\"/>\n",
              "  </svg>\n",
              "    </button>\n",
              "\n",
              "  <style>\n",
              "    .colab-df-container {\n",
              "      display:flex;\n",
              "      gap: 12px;\n",
              "    }\n",
              "\n",
              "    .colab-df-convert {\n",
              "      background-color: #E8F0FE;\n",
              "      border: none;\n",
              "      border-radius: 50%;\n",
              "      cursor: pointer;\n",
              "      display: none;\n",
              "      fill: #1967D2;\n",
              "      height: 32px;\n",
              "      padding: 0 0 0 0;\n",
              "      width: 32px;\n",
              "    }\n",
              "\n",
              "    .colab-df-convert:hover {\n",
              "      background-color: #E2EBFA;\n",
              "      box-shadow: 0px 1px 2px rgba(60, 64, 67, 0.3), 0px 1px 3px 1px rgba(60, 64, 67, 0.15);\n",
              "      fill: #174EA6;\n",
              "    }\n",
              "\n",
              "    .colab-df-buttons div {\n",
              "      margin-bottom: 4px;\n",
              "    }\n",
              "\n",
              "    [theme=dark] .colab-df-convert {\n",
              "      background-color: #3B4455;\n",
              "      fill: #D2E3FC;\n",
              "    }\n",
              "\n",
              "    [theme=dark] .colab-df-convert:hover {\n",
              "      background-color: #434B5C;\n",
              "      box-shadow: 0px 1px 3px 1px rgba(0, 0, 0, 0.15);\n",
              "      filter: drop-shadow(0px 1px 2px rgba(0, 0, 0, 0.3));\n",
              "      fill: #FFFFFF;\n",
              "    }\n",
              "  </style>\n",
              "\n",
              "    <script>\n",
              "      const buttonEl =\n",
              "        document.querySelector('#df-117cc9ea-a19a-448c-8c32-fcbef8a4841a button.colab-df-convert');\n",
              "      buttonEl.style.display =\n",
              "        google.colab.kernel.accessAllowed ? 'block' : 'none';\n",
              "\n",
              "      async function convertToInteractive(key) {\n",
              "        const element = document.querySelector('#df-117cc9ea-a19a-448c-8c32-fcbef8a4841a');\n",
              "        const dataTable =\n",
              "          await google.colab.kernel.invokeFunction('convertToInteractive',\n",
              "                                                    [key], {});\n",
              "        if (!dataTable) return;\n",
              "\n",
              "        const docLinkHtml = 'Like what you see? Visit the ' +\n",
              "          '<a target=\"_blank\" href=https://colab.research.google.com/notebooks/data_table.ipynb>data table notebook</a>'\n",
              "          + ' to learn more about interactive tables.';\n",
              "        element.innerHTML = '';\n",
              "        dataTable['output_type'] = 'display_data';\n",
              "        await google.colab.output.renderOutput(dataTable, element);\n",
              "        const docLink = document.createElement('div');\n",
              "        docLink.innerHTML = docLinkHtml;\n",
              "        element.appendChild(docLink);\n",
              "      }\n",
              "    </script>\n",
              "  </div>\n",
              "\n",
              "\n",
              "    <div id=\"df-ea36723a-e38c-4522-a4ad-1106dd97e58b\">\n",
              "      <button class=\"colab-df-quickchart\" onclick=\"quickchart('df-ea36723a-e38c-4522-a4ad-1106dd97e58b')\"\n",
              "                title=\"Suggest charts\"\n",
              "                style=\"display:none;\">\n",
              "\n",
              "<svg xmlns=\"http://www.w3.org/2000/svg\" height=\"24px\"viewBox=\"0 0 24 24\"\n",
              "     width=\"24px\">\n",
              "    <g>\n",
              "        <path d=\"M19 3H5c-1.1 0-2 .9-2 2v14c0 1.1.9 2 2 2h14c1.1 0 2-.9 2-2V5c0-1.1-.9-2-2-2zM9 17H7v-7h2v7zm4 0h-2V7h2v10zm4 0h-2v-4h2v4z\"/>\n",
              "    </g>\n",
              "</svg>\n",
              "      </button>\n",
              "\n",
              "<style>\n",
              "  .colab-df-quickchart {\n",
              "      --bg-color: #E8F0FE;\n",
              "      --fill-color: #1967D2;\n",
              "      --hover-bg-color: #E2EBFA;\n",
              "      --hover-fill-color: #174EA6;\n",
              "      --disabled-fill-color: #AAA;\n",
              "      --disabled-bg-color: #DDD;\n",
              "  }\n",
              "\n",
              "  [theme=dark] .colab-df-quickchart {\n",
              "      --bg-color: #3B4455;\n",
              "      --fill-color: #D2E3FC;\n",
              "      --hover-bg-color: #434B5C;\n",
              "      --hover-fill-color: #FFFFFF;\n",
              "      --disabled-bg-color: #3B4455;\n",
              "      --disabled-fill-color: #666;\n",
              "  }\n",
              "\n",
              "  .colab-df-quickchart {\n",
              "    background-color: var(--bg-color);\n",
              "    border: none;\n",
              "    border-radius: 50%;\n",
              "    cursor: pointer;\n",
              "    display: none;\n",
              "    fill: var(--fill-color);\n",
              "    height: 32px;\n",
              "    padding: 0;\n",
              "    width: 32px;\n",
              "  }\n",
              "\n",
              "  .colab-df-quickchart:hover {\n",
              "    background-color: var(--hover-bg-color);\n",
              "    box-shadow: 0 1px 2px rgba(60, 64, 67, 0.3), 0 1px 3px 1px rgba(60, 64, 67, 0.15);\n",
              "    fill: var(--button-hover-fill-color);\n",
              "  }\n",
              "\n",
              "  .colab-df-quickchart-complete:disabled,\n",
              "  .colab-df-quickchart-complete:disabled:hover {\n",
              "    background-color: var(--disabled-bg-color);\n",
              "    fill: var(--disabled-fill-color);\n",
              "    box-shadow: none;\n",
              "  }\n",
              "\n",
              "  .colab-df-spinner {\n",
              "    border: 2px solid var(--fill-color);\n",
              "    border-color: transparent;\n",
              "    border-bottom-color: var(--fill-color);\n",
              "    animation:\n",
              "      spin 1s steps(1) infinite;\n",
              "  }\n",
              "\n",
              "  @keyframes spin {\n",
              "    0% {\n",
              "      border-color: transparent;\n",
              "      border-bottom-color: var(--fill-color);\n",
              "      border-left-color: var(--fill-color);\n",
              "    }\n",
              "    20% {\n",
              "      border-color: transparent;\n",
              "      border-left-color: var(--fill-color);\n",
              "      border-top-color: var(--fill-color);\n",
              "    }\n",
              "    30% {\n",
              "      border-color: transparent;\n",
              "      border-left-color: var(--fill-color);\n",
              "      border-top-color: var(--fill-color);\n",
              "      border-right-color: var(--fill-color);\n",
              "    }\n",
              "    40% {\n",
              "      border-color: transparent;\n",
              "      border-right-color: var(--fill-color);\n",
              "      border-top-color: var(--fill-color);\n",
              "    }\n",
              "    60% {\n",
              "      border-color: transparent;\n",
              "      border-right-color: var(--fill-color);\n",
              "    }\n",
              "    80% {\n",
              "      border-color: transparent;\n",
              "      border-right-color: var(--fill-color);\n",
              "      border-bottom-color: var(--fill-color);\n",
              "    }\n",
              "    90% {\n",
              "      border-color: transparent;\n",
              "      border-bottom-color: var(--fill-color);\n",
              "    }\n",
              "  }\n",
              "</style>\n",
              "\n",
              "      <script>\n",
              "        async function quickchart(key) {\n",
              "          const quickchartButtonEl =\n",
              "            document.querySelector('#' + key + ' button');\n",
              "          quickchartButtonEl.disabled = true;  // To prevent multiple clicks.\n",
              "          quickchartButtonEl.classList.add('colab-df-spinner');\n",
              "          try {\n",
              "            const charts = await google.colab.kernel.invokeFunction(\n",
              "                'suggestCharts', [key], {});\n",
              "          } catch (error) {\n",
              "            console.error('Error during call to suggestCharts:', error);\n",
              "          }\n",
              "          quickchartButtonEl.classList.remove('colab-df-spinner');\n",
              "          quickchartButtonEl.classList.add('colab-df-quickchart-complete');\n",
              "        }\n",
              "        (() => {\n",
              "          let quickchartButtonEl =\n",
              "            document.querySelector('#df-ea36723a-e38c-4522-a4ad-1106dd97e58b button');\n",
              "          quickchartButtonEl.style.display =\n",
              "            google.colab.kernel.accessAllowed ? 'block' : 'none';\n",
              "        })();\n",
              "      </script>\n",
              "    </div>\n",
              "\n",
              "    </div>\n",
              "  </div>\n"
            ],
            "application/vnd.google.colaboratory.intrinsic+json": {
              "type": "dataframe",
              "summary": "{\n  \"name\": \"    print('Nessun risultato: controlla path immagini / CSV\",\n  \"rows\": 5,\n  \"fields\": [\n    {\n      \"column\": \"id\",\n      \"properties\": {\n        \"dtype\": \"string\",\n        \"num_unique_values\": 5,\n        \"samples\": [\n          \"MAT_022\",\n          \"MAT_011\",\n          \"MAT_021\"\n        ],\n        \"semantic_type\": \"\",\n        \"description\": \"\"\n      }\n    },\n    {\n      \"column\": \"object\",\n      \"properties\": {\n        \"dtype\": \"string\",\n        \"num_unique_values\": 3,\n        \"samples\": [\n          \"table\",\n          \"vase\",\n          \"sofa\"\n        ],\n        \"semantic_type\": \"\",\n        \"description\": \"\"\n      }\n    },\n    {\n      \"column\": \"scenario\",\n      \"properties\": {\n        \"dtype\": \"category\",\n        \"num_unique_values\": 2,\n        \"samples\": [\n          \"clean\",\n          \"real\"\n        ],\n        \"semantic_type\": \"\",\n        \"description\": \"\"\n      }\n    },\n    {\n      \"column\": \"clip_score\",\n      \"properties\": {\n        \"dtype\": \"number\",\n        \"std\": 0.0070820492647530545,\n        \"min\": 0.33597278594970703,\n        \"max\": 0.34972086548805237,\n        \"num_unique_values\": 5,\n        \"samples\": [\n          0.3495682179927826,\n          0.33597278594970703\n        ],\n        \"semantic_type\": \"\",\n        \"description\": \"\"\n      }\n    },\n    {\n      \"column\": \"prompt\",\n      \"properties\": {\n        \"dtype\": \"string\",\n        \"num_unique_values\": 4,\n        \"samples\": [\n          \"Transform the terracotta vase into a natural stone vase while keeping the original proportions and realistic lighting.\",\n          \"Transform the table into a polished metal table while keeping the original proportions and realistic lighting.\"\n        ],\n        \"semantic_type\": \"\",\n        \"description\": \"\"\n      }\n    }\n  ]\n}"
            }
          },
          "metadata": {}
        },
        {
          "output_type": "stream",
          "name": "stdout",
          "text": [
            "\n",
            "Bottom 5 risultati per clip_score:\n"
          ]
        },
        {
          "output_type": "display_data",
          "data": {
            "text/plain": [
              "         id object scenario  clip_score  \\\n",
              "6   MAT_007   sofa    clean    0.257873   \n",
              "12  MAT_013  table    clean    0.258209   \n",
              "5   MAT_006  chair     real    0.280109   \n",
              "16  MAT_029  table    clean    0.288087   \n",
              "28  MAT_027   lamp    clean    0.293317   \n",
              "\n",
              "                                               prompt  \n",
              "6   Turn the fabric sofa into a brown brown leathe...  \n",
              "12  Transform the table into a polished marble tab...  \n",
              "5   Transform the chair so that it is with a trans...  \n",
              "16  Transform the table into a natural stone table...  \n",
              "28  Transform the lamp head into transparent glass...  "
            ],
            "text/html": [
              "\n",
              "  <div id=\"df-59fa1dda-9c0d-472e-a5c3-ca3f71c7b491\" class=\"colab-df-container\">\n",
              "    <div>\n",
              "<style scoped>\n",
              "    .dataframe tbody tr th:only-of-type {\n",
              "        vertical-align: middle;\n",
              "    }\n",
              "\n",
              "    .dataframe tbody tr th {\n",
              "        vertical-align: top;\n",
              "    }\n",
              "\n",
              "    .dataframe thead th {\n",
              "        text-align: right;\n",
              "    }\n",
              "</style>\n",
              "<table border=\"1\" class=\"dataframe\">\n",
              "  <thead>\n",
              "    <tr style=\"text-align: right;\">\n",
              "      <th></th>\n",
              "      <th>id</th>\n",
              "      <th>object</th>\n",
              "      <th>scenario</th>\n",
              "      <th>clip_score</th>\n",
              "      <th>prompt</th>\n",
              "    </tr>\n",
              "  </thead>\n",
              "  <tbody>\n",
              "    <tr>\n",
              "      <th>6</th>\n",
              "      <td>MAT_007</td>\n",
              "      <td>sofa</td>\n",
              "      <td>clean</td>\n",
              "      <td>0.257873</td>\n",
              "      <td>Turn the fabric sofa into a brown brown leathe...</td>\n",
              "    </tr>\n",
              "    <tr>\n",
              "      <th>12</th>\n",
              "      <td>MAT_013</td>\n",
              "      <td>table</td>\n",
              "      <td>clean</td>\n",
              "      <td>0.258209</td>\n",
              "      <td>Transform the table into a polished marble tab...</td>\n",
              "    </tr>\n",
              "    <tr>\n",
              "      <th>5</th>\n",
              "      <td>MAT_006</td>\n",
              "      <td>chair</td>\n",
              "      <td>real</td>\n",
              "      <td>0.280109</td>\n",
              "      <td>Transform the chair so that it is with a trans...</td>\n",
              "    </tr>\n",
              "    <tr>\n",
              "      <th>16</th>\n",
              "      <td>MAT_029</td>\n",
              "      <td>table</td>\n",
              "      <td>clean</td>\n",
              "      <td>0.288087</td>\n",
              "      <td>Transform the table into a natural stone table...</td>\n",
              "    </tr>\n",
              "    <tr>\n",
              "      <th>28</th>\n",
              "      <td>MAT_027</td>\n",
              "      <td>lamp</td>\n",
              "      <td>clean</td>\n",
              "      <td>0.293317</td>\n",
              "      <td>Transform the lamp head into transparent glass...</td>\n",
              "    </tr>\n",
              "  </tbody>\n",
              "</table>\n",
              "</div>\n",
              "    <div class=\"colab-df-buttons\">\n",
              "\n",
              "  <div class=\"colab-df-container\">\n",
              "    <button class=\"colab-df-convert\" onclick=\"convertToInteractive('df-59fa1dda-9c0d-472e-a5c3-ca3f71c7b491')\"\n",
              "            title=\"Convert this dataframe to an interactive table.\"\n",
              "            style=\"display:none;\">\n",
              "\n",
              "  <svg xmlns=\"http://www.w3.org/2000/svg\" height=\"24px\" viewBox=\"0 -960 960 960\">\n",
              "    <path d=\"M120-120v-720h720v720H120Zm60-500h600v-160H180v160Zm220 220h160v-160H400v160Zm0 220h160v-160H400v160ZM180-400h160v-160H180v160Zm440 0h160v-160H620v160ZM180-180h160v-160H180v160Zm440 0h160v-160H620v160Z\"/>\n",
              "  </svg>\n",
              "    </button>\n",
              "\n",
              "  <style>\n",
              "    .colab-df-container {\n",
              "      display:flex;\n",
              "      gap: 12px;\n",
              "    }\n",
              "\n",
              "    .colab-df-convert {\n",
              "      background-color: #E8F0FE;\n",
              "      border: none;\n",
              "      border-radius: 50%;\n",
              "      cursor: pointer;\n",
              "      display: none;\n",
              "      fill: #1967D2;\n",
              "      height: 32px;\n",
              "      padding: 0 0 0 0;\n",
              "      width: 32px;\n",
              "    }\n",
              "\n",
              "    .colab-df-convert:hover {\n",
              "      background-color: #E2EBFA;\n",
              "      box-shadow: 0px 1px 2px rgba(60, 64, 67, 0.3), 0px 1px 3px 1px rgba(60, 64, 67, 0.15);\n",
              "      fill: #174EA6;\n",
              "    }\n",
              "\n",
              "    .colab-df-buttons div {\n",
              "      margin-bottom: 4px;\n",
              "    }\n",
              "\n",
              "    [theme=dark] .colab-df-convert {\n",
              "      background-color: #3B4455;\n",
              "      fill: #D2E3FC;\n",
              "    }\n",
              "\n",
              "    [theme=dark] .colab-df-convert:hover {\n",
              "      background-color: #434B5C;\n",
              "      box-shadow: 0px 1px 3px 1px rgba(0, 0, 0, 0.15);\n",
              "      filter: drop-shadow(0px 1px 2px rgba(0, 0, 0, 0.3));\n",
              "      fill: #FFFFFF;\n",
              "    }\n",
              "  </style>\n",
              "\n",
              "    <script>\n",
              "      const buttonEl =\n",
              "        document.querySelector('#df-59fa1dda-9c0d-472e-a5c3-ca3f71c7b491 button.colab-df-convert');\n",
              "      buttonEl.style.display =\n",
              "        google.colab.kernel.accessAllowed ? 'block' : 'none';\n",
              "\n",
              "      async function convertToInteractive(key) {\n",
              "        const element = document.querySelector('#df-59fa1dda-9c0d-472e-a5c3-ca3f71c7b491');\n",
              "        const dataTable =\n",
              "          await google.colab.kernel.invokeFunction('convertToInteractive',\n",
              "                                                    [key], {});\n",
              "        if (!dataTable) return;\n",
              "\n",
              "        const docLinkHtml = 'Like what you see? Visit the ' +\n",
              "          '<a target=\"_blank\" href=https://colab.research.google.com/notebooks/data_table.ipynb>data table notebook</a>'\n",
              "          + ' to learn more about interactive tables.';\n",
              "        element.innerHTML = '';\n",
              "        dataTable['output_type'] = 'display_data';\n",
              "        await google.colab.output.renderOutput(dataTable, element);\n",
              "        const docLink = document.createElement('div');\n",
              "        docLink.innerHTML = docLinkHtml;\n",
              "        element.appendChild(docLink);\n",
              "      }\n",
              "    </script>\n",
              "  </div>\n",
              "\n",
              "\n",
              "    <div id=\"df-979b985b-03f2-4c03-ac54-9b248a039033\">\n",
              "      <button class=\"colab-df-quickchart\" onclick=\"quickchart('df-979b985b-03f2-4c03-ac54-9b248a039033')\"\n",
              "                title=\"Suggest charts\"\n",
              "                style=\"display:none;\">\n",
              "\n",
              "<svg xmlns=\"http://www.w3.org/2000/svg\" height=\"24px\"viewBox=\"0 0 24 24\"\n",
              "     width=\"24px\">\n",
              "    <g>\n",
              "        <path d=\"M19 3H5c-1.1 0-2 .9-2 2v14c0 1.1.9 2 2 2h14c1.1 0 2-.9 2-2V5c0-1.1-.9-2-2-2zM9 17H7v-7h2v7zm4 0h-2V7h2v10zm4 0h-2v-4h2v4z\"/>\n",
              "    </g>\n",
              "</svg>\n",
              "      </button>\n",
              "\n",
              "<style>\n",
              "  .colab-df-quickchart {\n",
              "      --bg-color: #E8F0FE;\n",
              "      --fill-color: #1967D2;\n",
              "      --hover-bg-color: #E2EBFA;\n",
              "      --hover-fill-color: #174EA6;\n",
              "      --disabled-fill-color: #AAA;\n",
              "      --disabled-bg-color: #DDD;\n",
              "  }\n",
              "\n",
              "  [theme=dark] .colab-df-quickchart {\n",
              "      --bg-color: #3B4455;\n",
              "      --fill-color: #D2E3FC;\n",
              "      --hover-bg-color: #434B5C;\n",
              "      --hover-fill-color: #FFFFFF;\n",
              "      --disabled-bg-color: #3B4455;\n",
              "      --disabled-fill-color: #666;\n",
              "  }\n",
              "\n",
              "  .colab-df-quickchart {\n",
              "    background-color: var(--bg-color);\n",
              "    border: none;\n",
              "    border-radius: 50%;\n",
              "    cursor: pointer;\n",
              "    display: none;\n",
              "    fill: var(--fill-color);\n",
              "    height: 32px;\n",
              "    padding: 0;\n",
              "    width: 32px;\n",
              "  }\n",
              "\n",
              "  .colab-df-quickchart:hover {\n",
              "    background-color: var(--hover-bg-color);\n",
              "    box-shadow: 0 1px 2px rgba(60, 64, 67, 0.3), 0 1px 3px 1px rgba(60, 64, 67, 0.15);\n",
              "    fill: var(--button-hover-fill-color);\n",
              "  }\n",
              "\n",
              "  .colab-df-quickchart-complete:disabled,\n",
              "  .colab-df-quickchart-complete:disabled:hover {\n",
              "    background-color: var(--disabled-bg-color);\n",
              "    fill: var(--disabled-fill-color);\n",
              "    box-shadow: none;\n",
              "  }\n",
              "\n",
              "  .colab-df-spinner {\n",
              "    border: 2px solid var(--fill-color);\n",
              "    border-color: transparent;\n",
              "    border-bottom-color: var(--fill-color);\n",
              "    animation:\n",
              "      spin 1s steps(1) infinite;\n",
              "  }\n",
              "\n",
              "  @keyframes spin {\n",
              "    0% {\n",
              "      border-color: transparent;\n",
              "      border-bottom-color: var(--fill-color);\n",
              "      border-left-color: var(--fill-color);\n",
              "    }\n",
              "    20% {\n",
              "      border-color: transparent;\n",
              "      border-left-color: var(--fill-color);\n",
              "      border-top-color: var(--fill-color);\n",
              "    }\n",
              "    30% {\n",
              "      border-color: transparent;\n",
              "      border-left-color: var(--fill-color);\n",
              "      border-top-color: var(--fill-color);\n",
              "      border-right-color: var(--fill-color);\n",
              "    }\n",
              "    40% {\n",
              "      border-color: transparent;\n",
              "      border-right-color: var(--fill-color);\n",
              "      border-top-color: var(--fill-color);\n",
              "    }\n",
              "    60% {\n",
              "      border-color: transparent;\n",
              "      border-right-color: var(--fill-color);\n",
              "    }\n",
              "    80% {\n",
              "      border-color: transparent;\n",
              "      border-right-color: var(--fill-color);\n",
              "      border-bottom-color: var(--fill-color);\n",
              "    }\n",
              "    90% {\n",
              "      border-color: transparent;\n",
              "      border-bottom-color: var(--fill-color);\n",
              "    }\n",
              "  }\n",
              "</style>\n",
              "\n",
              "      <script>\n",
              "        async function quickchart(key) {\n",
              "          const quickchartButtonEl =\n",
              "            document.querySelector('#' + key + ' button');\n",
              "          quickchartButtonEl.disabled = true;  // To prevent multiple clicks.\n",
              "          quickchartButtonEl.classList.add('colab-df-spinner');\n",
              "          try {\n",
              "            const charts = await google.colab.kernel.invokeFunction(\n",
              "                'suggestCharts', [key], {});\n",
              "          } catch (error) {\n",
              "            console.error('Error during call to suggestCharts:', error);\n",
              "          }\n",
              "          quickchartButtonEl.classList.remove('colab-df-spinner');\n",
              "          quickchartButtonEl.classList.add('colab-df-quickchart-complete');\n",
              "        }\n",
              "        (() => {\n",
              "          let quickchartButtonEl =\n",
              "            document.querySelector('#df-979b985b-03f2-4c03-ac54-9b248a039033 button');\n",
              "          quickchartButtonEl.style.display =\n",
              "            google.colab.kernel.accessAllowed ? 'block' : 'none';\n",
              "        })();\n",
              "      </script>\n",
              "    </div>\n",
              "\n",
              "    </div>\n",
              "  </div>\n"
            ],
            "application/vnd.google.colaboratory.intrinsic+json": {
              "type": "dataframe",
              "summary": "{\n  \"name\": \"    print('Nessun risultato: controlla path immagini / CSV\",\n  \"rows\": 5,\n  \"fields\": [\n    {\n      \"column\": \"id\",\n      \"properties\": {\n        \"dtype\": \"string\",\n        \"num_unique_values\": 5,\n        \"samples\": [\n          \"MAT_013\",\n          \"MAT_027\",\n          \"MAT_006\"\n        ],\n        \"semantic_type\": \"\",\n        \"description\": \"\"\n      }\n    },\n    {\n      \"column\": \"object\",\n      \"properties\": {\n        \"dtype\": \"string\",\n        \"num_unique_values\": 4,\n        \"samples\": [\n          \"table\",\n          \"lamp\",\n          \"sofa\"\n        ],\n        \"semantic_type\": \"\",\n        \"description\": \"\"\n      }\n    },\n    {\n      \"column\": \"scenario\",\n      \"properties\": {\n        \"dtype\": \"category\",\n        \"num_unique_values\": 2,\n        \"samples\": [\n          \"real\",\n          \"clean\"\n        ],\n        \"semantic_type\": \"\",\n        \"description\": \"\"\n      }\n    },\n    {\n      \"column\": \"clip_score\",\n      \"properties\": {\n        \"dtype\": \"number\",\n        \"std\": 0.01663402561223972,\n        \"min\": 0.2578734755516052,\n        \"max\": 0.2933168411254883,\n        \"num_unique_values\": 5,\n        \"samples\": [\n          0.25820937752723694,\n          0.2933168411254883\n        ],\n        \"semantic_type\": \"\",\n        \"description\": \"\"\n      }\n    },\n    {\n      \"column\": \"prompt\",\n      \"properties\": {\n        \"dtype\": \"string\",\n        \"num_unique_values\": 5,\n        \"samples\": [\n          \"Transform the table into a polished marble table while keeping the original proportions and realistic lighting.\",\n          \"Transform the lamp head into transparent glass so that the light bulb is visible while keeping the original proportions and realistic lighting.\"\n        ],\n        \"semantic_type\": \"\",\n        \"description\": \"\"\n      }\n    }\n  ]\n}"
            }
          },
          "metadata": {}
        }
      ],
      "execution_count": null,
      "source": [
        "df=pd.read_csv(CSV_PATH) #Lettura del csv\n",
        "\n",
        "required_cols=['id','macrocat','scenario','object','input_image_path','prompt_target']\n",
        "\n",
        "missing=[col for col in required_cols if col not in df.columns]\n",
        "if missing:\n",
        "    raise ValueError(f\"Mancano le seguenti colonne nel CSV: {missing}\")\n",
        "print(\"Totale righe da processare\",len(df))\n",
        "results=[]\n",
        "\n",
        "for _,row in tqdm(df.iterrows(),total=len(df)):\n",
        "    test_id=row['id']\n",
        "    scenario=row['scenario']\n",
        "    obj=row['object']\n",
        "    rel_path=row['input_image_path']\n",
        "    prompt=row['prompt_target']\n",
        "\n",
        "    img_path=BASE_DATA_DIR/Path(rel_path)\n",
        "    print(img_path)\n",
        "    if not img_path.exists():\n",
        "        print(f\"[WARN] immagine mancante {img_path}\")\n",
        "        continue\n",
        "    out_dir=OUT_DIR/str(row['macrocat']) /str(obj)/str(scenario)/str(test_id)\n",
        "    out_dir.mkdir(parents=True,exist_ok=True)\n",
        "\n",
        "    (out_dir/\"prompt.txt\").write_text(prompt,encoding='utf-8')\n",
        "\n",
        "    seed_image=load_rgb_image(img_path)\n",
        "    seed_image.save(out_dir/\"input.jpg\")\n",
        "\n",
        "    #Generazione immagine\n",
        "    image_out=run_token_opt(seed_image,prompt,steps=200)\n",
        "    out_image_path=out_dir/\"output.jpg\"\n",
        "    image_out.save(out_image_path)\n",
        "\n",
        "    #CLIP score\n",
        "    score=clip_score_image_text(image_out,prompt)\n",
        "\n",
        "    #Metadata JSON\n",
        "    meta = {\n",
        "        'id': test_id,\n",
        "        'macrocat': row['macrocat'],\n",
        "        'scenario': scenario,\n",
        "        'object': obj,\n",
        "        'prompt': prompt,\n",
        "        'input_image_path': str(img_path),\n",
        "        'output_image_path': str(out_image_path),\n",
        "        'clip_score': score,\n",
        "    }\n",
        "    with open(out_dir / 'clip_scores.json', 'w', encoding='utf-8') as f:\n",
        "        json.dump(meta, f, ensure_ascii=False, indent=2)\n",
        "    results.append(meta)\n",
        "\n",
        "res_df = pd.DataFrame(results)\n",
        "res_csv = OUT_DIR / 'results_clip.csv'\n",
        "res_df.to_csv(res_csv, index=False)\n",
        "print('[DONE] Salvato results in:', res_csv)\n",
        "\n",
        "if len(results):\n",
        "    res_df = pd.DataFrame(results)\n",
        "    print('Media CLIP per (object, scenario):')\n",
        "    display(res_df.groupby(['object','scenario'])['clip_score'].mean().round(4))\n",
        "\n",
        "    print('\\nTop 5 risultati per clip_score:')\n",
        "    display(res_df.sort_values('clip_score', ascending=False).head(5)[['id','object','scenario','clip_score','prompt']])\n",
        "\n",
        "    print('\\nBottom 5 risultati per clip_score:')\n",
        "    display(res_df.sort_values('clip_score', ascending=True).head(5)[['id','object','scenario','clip_score','prompt']])\n",
        "else:\n",
        "    print('Nessun risultato: controlla path immagini / CSV.')\n",
        "\n"
      ],
      "id": "a6caf72cc73143ee"
    },
    {
      "cell_type": "code",
      "source": [
        "!zip -r outputs_change_materials-zip /content/outputs_change_materials"
      ],
      "metadata": {
        "colab": {
          "base_uri": "https://localhost:8080/"
        },
        "id": "VYpOcJiD0lbv",
        "outputId": "8fd5708b-38c3-4a0d-9b49-c4cd46ee74c9"
      },
      "id": "VYpOcJiD0lbv",
      "execution_count": null,
      "outputs": [
        {
          "output_type": "stream",
          "name": "stdout",
          "text": [
            "updating: content/outputs_change_materials/ (stored 0%)\n",
            "updating: content/outputs_change_materials/.ipynb_checkpoints/ (stored 0%)\n",
            "updating: content/outputs_change_materials/change_material/ (stored 0%)\n",
            "updating: content/outputs_change_materials/change_material/cup/ (stored 0%)\n",
            "updating: content/outputs_change_materials/change_material/cup/real/ (stored 0%)\n",
            "updating: content/outputs_change_materials/change_material/cup/real/MAT_018/ (stored 0%)\n",
            "updating: content/outputs_change_materials/change_material/cup/real/MAT_018/prompt.txt (deflated 23%)\n",
            "updating: content/outputs_change_materials/change_material/cup/real/MAT_018/clip_scores.json (deflated 43%)\n",
            "updating: content/outputs_change_materials/change_material/cup/real/MAT_018/input.jpg (deflated 1%)\n",
            "updating: content/outputs_change_materials/change_material/cup/real/MAT_018/output.jpg (deflated 2%)\n",
            "updating: content/outputs_change_materials/change_material/cup/real/MAT_020/ (stored 0%)\n",
            "updating: content/outputs_change_materials/change_material/cup/real/MAT_020/prompt.txt (deflated 24%)\n",
            "updating: content/outputs_change_materials/change_material/cup/real/MAT_020/clip_scores.json (deflated 43%)\n",
            "updating: content/outputs_change_materials/change_material/cup/real/MAT_020/input.jpg (deflated 1%)\n",
            "updating: content/outputs_change_materials/change_material/cup/real/MAT_020/output.jpg (deflated 2%)\n",
            "updating: content/outputs_change_materials/change_material/cup/clean/ (stored 0%)\n",
            "updating: content/outputs_change_materials/change_material/cup/clean/MAT_017/ (stored 0%)\n",
            "updating: content/outputs_change_materials/change_material/cup/clean/MAT_017/prompt.txt (deflated 23%)\n",
            "updating: content/outputs_change_materials/change_material/cup/clean/MAT_017/clip_scores.json (deflated 43%)\n",
            "updating: content/outputs_change_materials/change_material/cup/clean/MAT_017/input.jpg (deflated 24%)\n",
            "updating: content/outputs_change_materials/change_material/cup/clean/MAT_017/output.jpg (deflated 3%)\n",
            "updating: content/outputs_change_materials/change_material/cup/clean/MAT_019/ (stored 0%)\n",
            "updating: content/outputs_change_materials/change_material/cup/clean/MAT_019/prompt.txt (deflated 24%)\n",
            "updating: content/outputs_change_materials/change_material/cup/clean/MAT_019/clip_scores.json (deflated 43%)\n",
            "updating: content/outputs_change_materials/change_material/cup/clean/MAT_019/input.jpg (deflated 24%)\n",
            "updating: content/outputs_change_materials/change_material/cup/clean/MAT_019/output.jpg (deflated 4%)\n",
            "updating: content/outputs_change_materials/change_material/chair/ (stored 0%)\n",
            "updating: content/outputs_change_materials/change_material/chair/real/ (stored 0%)\n",
            "updating: content/outputs_change_materials/change_material/chair/real/MAT_004/ (stored 0%)\n",
            "updating: content/outputs_change_materials/change_material/chair/real/MAT_004/prompt.txt (deflated 23%)\n",
            "updating: content/outputs_change_materials/change_material/chair/real/MAT_004/clip_scores.json (deflated 44%)\n",
            "updating: content/outputs_change_materials/change_material/chair/real/MAT_004/input.jpg (deflated 1%)\n",
            "updating: content/outputs_change_materials/change_material/chair/real/MAT_004/output.jpg (deflated 2%)\n",
            "updating: content/outputs_change_materials/change_material/chair/real/MAT_006/ (stored 0%)\n",
            "updating: content/outputs_change_materials/change_material/chair/real/MAT_006/prompt.txt (deflated 30%)\n",
            "updating: content/outputs_change_materials/change_material/chair/real/MAT_006/clip_scores.json (deflated 44%)\n",
            "updating: content/outputs_change_materials/change_material/chair/real/MAT_006/input.jpg (deflated 1%)\n",
            "updating: content/outputs_change_materials/change_material/chair/real/MAT_006/output.jpg (deflated 2%)\n",
            "updating: content/outputs_change_materials/change_material/chair/real/MAT_002/ (stored 0%)\n",
            "updating: content/outputs_change_materials/change_material/chair/real/MAT_002/prompt.txt (deflated 23%)\n",
            "updating: content/outputs_change_materials/change_material/chair/real/MAT_002/clip_scores.json (deflated 44%)\n",
            "updating: content/outputs_change_materials/change_material/chair/real/MAT_002/input.jpg (deflated 1%)\n",
            "updating: content/outputs_change_materials/change_material/chair/real/MAT_002/output.jpg (deflated 1%)\n",
            "updating: content/outputs_change_materials/change_material/chair/clean/ (stored 0%)\n",
            "updating: content/outputs_change_materials/change_material/chair/clean/MAT_001/ (stored 0%)\n",
            "updating: content/outputs_change_materials/change_material/chair/clean/MAT_001/prompt.txt (deflated 23%)\n",
            "updating: content/outputs_change_materials/change_material/chair/clean/MAT_001/clip_scores.json (deflated 44%)\n",
            "updating: content/outputs_change_materials/change_material/chair/clean/MAT_001/input.jpg (deflated 18%)\n",
            "updating: content/outputs_change_materials/change_material/chair/clean/MAT_001/output.jpg (deflated 10%)\n",
            "updating: content/outputs_change_materials/change_material/chair/clean/MAT_003/ (stored 0%)\n",
            "updating: content/outputs_change_materials/change_material/chair/clean/MAT_003/prompt.txt (deflated 23%)\n",
            "updating: content/outputs_change_materials/change_material/chair/clean/MAT_003/clip_scores.json (deflated 44%)\n",
            "updating: content/outputs_change_materials/change_material/chair/clean/MAT_003/input.jpg (deflated 18%)\n",
            "updating: content/outputs_change_materials/change_material/chair/clean/MAT_003/output.jpg (deflated 2%)\n",
            "updating: content/outputs_change_materials/change_material/chair/clean/MAT_005/ (stored 0%)\n",
            "updating: content/outputs_change_materials/change_material/chair/clean/MAT_005/prompt.txt (deflated 30%)\n",
            "updating: content/outputs_change_materials/change_material/chair/clean/MAT_005/clip_scores.json (deflated 44%)\n",
            "updating: content/outputs_change_materials/change_material/chair/clean/MAT_005/input.jpg (deflated 18%)\n",
            "updating: content/outputs_change_materials/change_material/chair/clean/MAT_005/output.jpg (deflated 4%)\n",
            "updating: content/outputs_change_materials/change_material/table/ (stored 0%)\n",
            "updating: content/outputs_change_materials/change_material/table/real/ (stored 0%)\n",
            "updating: content/outputs_change_materials/change_material/table/real/MAT_012/ (stored 0%)\n",
            "updating: content/outputs_change_materials/change_material/table/real/MAT_012/prompt.txt (deflated 24%)\n",
            "updating: content/outputs_change_materials/change_material/table/real/MAT_012/clip_scores.json (deflated 43%)\n",
            "updating: content/outputs_change_materials/change_material/table/real/MAT_012/input.jpg (deflated 0%)\n",
            "updating: content/outputs_change_materials/change_material/table/real/MAT_012/output.jpg (deflated 2%)\n",
            "updating: content/outputs_change_materials/change_material/table/real/MAT_016/ (stored 0%)\n",
            "updating: content/outputs_change_materials/change_material/table/real/MAT_016/prompt.txt (deflated 24%)\n",
            "updating: content/outputs_change_materials/change_material/table/real/MAT_016/clip_scores.json (deflated 43%)\n",
            "updating: content/outputs_change_materials/change_material/table/real/MAT_016/input.jpg (deflated 0%)\n",
            "updating: content/outputs_change_materials/change_material/table/real/MAT_016/output.jpg (deflated 1%)\n",
            "updating: content/outputs_change_materials/change_material/table/real/MAT_030/ (stored 0%)\n",
            "updating: content/outputs_change_materials/change_material/table/real/MAT_030/prompt.txt (deflated 23%)\n",
            "updating: content/outputs_change_materials/change_material/table/real/MAT_030/clip_scores.json (deflated 44%)\n",
            "updating: content/outputs_change_materials/change_material/table/real/MAT_030/input.jpg (deflated 0%)\n",
            "updating: content/outputs_change_materials/change_material/table/real/MAT_030/output.jpg (deflated 1%)\n",
            "updating: content/outputs_change_materials/change_material/table/real/MAT_014/ (stored 0%)\n",
            "updating: content/outputs_change_materials/change_material/table/real/MAT_014/prompt.txt (deflated 23%)\n",
            "updating: content/outputs_change_materials/change_material/table/real/MAT_014/clip_scores.json (deflated 43%)\n",
            "updating: content/outputs_change_materials/change_material/table/real/MAT_014/input.jpg (deflated 0%)\n",
            "updating: content/outputs_change_materials/change_material/table/real/MAT_014/output.jpg (deflated 1%)\n",
            "updating: content/outputs_change_materials/change_material/table/clean/ (stored 0%)\n",
            "updating: content/outputs_change_materials/change_material/table/clean/MAT_029/ (stored 0%)\n",
            "updating: content/outputs_change_materials/change_material/table/clean/MAT_029/prompt.txt (deflated 23%)\n",
            "updating: content/outputs_change_materials/change_material/table/clean/MAT_029/clip_scores.json (deflated 43%)\n",
            "updating: content/outputs_change_materials/change_material/table/clean/MAT_029/input.jpg (deflated 35%)\n",
            "updating: content/outputs_change_materials/change_material/table/clean/MAT_029/output.jpg (deflated 8%)\n",
            "updating: content/outputs_change_materials/change_material/table/clean/MAT_015/ (stored 0%)\n",
            "updating: content/outputs_change_materials/change_material/table/clean/MAT_015/prompt.txt (deflated 24%)\n",
            "updating: content/outputs_change_materials/change_material/table/clean/MAT_015/clip_scores.json (deflated 43%)\n",
            "updating: content/outputs_change_materials/change_material/table/clean/MAT_015/input.jpg (deflated 35%)\n",
            "updating: content/outputs_change_materials/change_material/table/clean/MAT_015/output.jpg (deflated 11%)\n",
            "updating: content/outputs_change_materials/change_material/table/clean/MAT_013/ (stored 0%)\n",
            "updating: content/outputs_change_materials/change_material/table/clean/MAT_013/prompt.txt (deflated 23%)\n",
            "updating: content/outputs_change_materials/change_material/table/clean/MAT_013/clip_scores.json (deflated 44%)\n",
            "updating: content/outputs_change_materials/change_material/table/clean/MAT_013/input.jpg (deflated 35%)\n",
            "updating: content/outputs_change_materials/change_material/table/clean/MAT_013/output.jpg (deflated 4%)\n",
            "updating: content/outputs_change_materials/change_material/table/clean/MAT_011/ (stored 0%)\n",
            "updating: content/outputs_change_materials/change_material/table/clean/MAT_011/prompt.txt (deflated 24%)\n",
            "updating: content/outputs_change_materials/change_material/table/clean/MAT_011/clip_scores.json (deflated 44%)\n",
            "updating: content/outputs_change_materials/change_material/table/clean/MAT_011/input.jpg (deflated 35%)\n",
            "updating: content/outputs_change_materials/change_material/table/clean/MAT_011/output.jpg (deflated 6%)\n",
            "updating: content/outputs_change_materials/change_material/sofa/ (stored 0%)\n",
            "updating: content/outputs_change_materials/change_material/sofa/real/ (stored 0%)\n",
            "updating: content/outputs_change_materials/change_material/sofa/real/MAT_008/ (stored 0%)\n",
            "updating: content/outputs_change_materials/change_material/sofa/real/MAT_008/prompt.txt (deflated 28%)\n",
            "updating: content/outputs_change_materials/change_material/sofa/real/MAT_008/clip_scores.json (deflated 43%)\n",
            "updating: content/outputs_change_materials/change_material/sofa/real/MAT_008/input.jpg (deflated 1%)\n",
            "updating: content/outputs_change_materials/change_material/sofa/real/MAT_008/output.jpg (deflated 2%)\n",
            "updating: content/outputs_change_materials/change_material/sofa/real/MAT_010/ (stored 0%)\n",
            "updating: content/outputs_change_materials/change_material/sofa/real/MAT_010/prompt.txt (deflated 24%)\n",
            "updating: content/outputs_change_materials/change_material/sofa/real/MAT_010/clip_scores.json (deflated 43%)\n",
            "updating: content/outputs_change_materials/change_material/sofa/real/MAT_010/input.jpg (deflated 1%)\n",
            "updating: content/outputs_change_materials/change_material/sofa/real/MAT_010/output.jpg (deflated 2%)\n",
            "updating: content/outputs_change_materials/change_material/sofa/clean/ (stored 0%)\n",
            "updating: content/outputs_change_materials/change_material/sofa/clean/MAT_009/ (stored 0%)\n",
            "updating: content/outputs_change_materials/change_material/sofa/clean/MAT_009/prompt.txt (deflated 24%)\n",
            "updating: content/outputs_change_materials/change_material/sofa/clean/MAT_009/clip_scores.json (deflated 43%)\n",
            "updating: content/outputs_change_materials/change_material/sofa/clean/MAT_009/input.jpg (deflated 12%)\n",
            "updating: content/outputs_change_materials/change_material/sofa/clean/MAT_009/output.jpg (deflated 3%)\n",
            "updating: content/outputs_change_materials/change_material/sofa/clean/MAT_007/ (stored 0%)\n",
            "updating: content/outputs_change_materials/change_material/sofa/clean/MAT_007/prompt.txt (deflated 28%)\n",
            "updating: content/outputs_change_materials/change_material/sofa/clean/MAT_007/clip_scores.json (deflated 43%)\n",
            "updating: content/outputs_change_materials/change_material/sofa/clean/MAT_007/input.jpg (deflated 12%)\n",
            "updating: content/outputs_change_materials/change_material/sofa/clean/MAT_007/output.jpg (deflated 2%)\n",
            "updating: content/outputs_change_materials/change_material/lamp/ (stored 0%)\n",
            "updating: content/outputs_change_materials/change_material/lamp/real/ (stored 0%)\n",
            "updating: content/outputs_change_materials/change_material/lamp/real/MAT_026/ (stored 0%)\n",
            "updating: content/outputs_change_materials/change_material/lamp/real/MAT_026/prompt.txt (deflated 27%)\n",
            "updating: content/outputs_change_materials/change_material/lamp/real/MAT_026/clip_scores.json (deflated 43%)\n",
            "updating: content/outputs_change_materials/change_material/lamp/real/MAT_026/input.jpg (deflated 2%)\n",
            "updating: content/outputs_change_materials/change_material/lamp/real/MAT_026/output.jpg (deflated 2%)\n",
            "updating: content/outputs_change_materials/change_material/lamp/real/MAT_028/ (stored 0%)\n",
            "updating: content/outputs_change_materials/change_material/lamp/real/MAT_028/prompt.txt (deflated 29%)\n",
            "updating: content/outputs_change_materials/change_material/lamp/real/MAT_028/clip_scores.json (deflated 43%)\n",
            "updating: content/outputs_change_materials/change_material/lamp/real/MAT_028/input.jpg (deflated 2%)\n",
            "updating: content/outputs_change_materials/change_material/lamp/real/MAT_028/output.jpg (deflated 3%)\n",
            "updating: content/outputs_change_materials/change_material/lamp/clean/ (stored 0%)\n",
            "updating: content/outputs_change_materials/change_material/lamp/clean/MAT_025/ (stored 0%)\n",
            "updating: content/outputs_change_materials/change_material/lamp/clean/MAT_025/prompt.txt (deflated 27%)\n",
            "updating: content/outputs_change_materials/change_material/lamp/clean/MAT_025/clip_scores.json (deflated 43%)\n",
            "updating: content/outputs_change_materials/change_material/lamp/clean/MAT_025/input.jpg (deflated 19%)\n",
            "updating: content/outputs_change_materials/change_material/lamp/clean/MAT_025/output.jpg (deflated 8%)\n",
            "updating: content/outputs_change_materials/change_material/lamp/clean/MAT_027/ (stored 0%)\n",
            "updating: content/outputs_change_materials/change_material/lamp/clean/MAT_027/prompt.txt (deflated 29%)\n",
            "updating: content/outputs_change_materials/change_material/lamp/clean/MAT_027/clip_scores.json (deflated 43%)\n",
            "updating: content/outputs_change_materials/change_material/lamp/clean/MAT_027/input.jpg (deflated 19%)\n",
            "updating: content/outputs_change_materials/change_material/lamp/clean/MAT_027/output.jpg (deflated 5%)\n",
            "updating: content/outputs_change_materials/change_material/vase/ (stored 0%)\n",
            "updating: content/outputs_change_materials/change_material/vase/real/ (stored 0%)\n",
            "updating: content/outputs_change_materials/change_material/vase/real/MAT_024/ (stored 0%)\n",
            "updating: content/outputs_change_materials/change_material/vase/real/MAT_024/prompt.txt (deflated 31%)\n",
            "updating: content/outputs_change_materials/change_material/vase/real/MAT_024/clip_scores.json (deflated 44%)\n",
            "updating: content/outputs_change_materials/change_material/vase/real/MAT_024/input.jpg (deflated 0%)\n",
            "updating: content/outputs_change_materials/change_material/vase/real/MAT_024/output.jpg (deflated 2%)\n",
            "updating: content/outputs_change_materials/change_material/vase/real/MAT_022/ (stored 0%)\n",
            "updating: content/outputs_change_materials/change_material/vase/real/MAT_022/prompt.txt (deflated 25%)\n",
            "updating: content/outputs_change_materials/change_material/vase/real/MAT_022/clip_scores.json (deflated 43%)\n",
            "updating: content/outputs_change_materials/change_material/vase/real/MAT_022/input.jpg (deflated 0%)\n",
            "updating: content/outputs_change_materials/change_material/vase/real/MAT_022/output.jpg (deflated 2%)\n",
            "updating: content/outputs_change_materials/change_material/vase/clean/ (stored 0%)\n",
            "updating: content/outputs_change_materials/change_material/vase/clean/MAT_021/ (stored 0%)\n",
            "updating: content/outputs_change_materials/change_material/vase/clean/MAT_021/prompt.txt (deflated 25%)\n",
            "updating: content/outputs_change_materials/change_material/vase/clean/MAT_021/clip_scores.json (deflated 44%)\n",
            "updating: content/outputs_change_materials/change_material/vase/clean/MAT_021/input.jpg (deflated 29%)\n",
            "updating: content/outputs_change_materials/change_material/vase/clean/MAT_021/output.jpg (deflated 6%)\n",
            "updating: content/outputs_change_materials/change_material/vase/clean/MAT_023/ (stored 0%)\n",
            "updating: content/outputs_change_materials/change_material/vase/clean/MAT_023/prompt.txt (deflated 31%)\n",
            "updating: content/outputs_change_materials/change_material/vase/clean/MAT_023/clip_scores.json (deflated 44%)\n",
            "updating: content/outputs_change_materials/change_material/vase/clean/MAT_023/input.jpg (deflated 29%)\n",
            "updating: content/outputs_change_materials/change_material/vase/clean/MAT_023/output.jpg (deflated 3%)\n",
            "updating: content/outputs_change_materials/results_clip.csv (deflated 87%)\n"
          ]
        }
      ]
    }
  ],
  "metadata": {
    "kernelspec": {
      "display_name": "Python 3",
      "name": "python3"
    },
    "language_info": {
      "codemirror_mode": {
        "name": "ipython",
        "version": 2
      },
      "file_extension": ".py",
      "mimetype": "text/x-python",
      "name": "python",
      "nbconvert_exporter": "python",
      "pygments_lexer": "ipython2",
      "version": "2.7.6"
    },
    "colab": {
      "provenance": [],
      "gpuType": "T4"
    },
    "accelerator": "GPU"
  },
  "nbformat": 4,
  "nbformat_minor": 5
}